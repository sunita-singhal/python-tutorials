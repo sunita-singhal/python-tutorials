{
  "nbformat": 4,
  "nbformat_minor": 0,
  "metadata": {
    "colab": {
      "provenance": [],
      "authorship_tag": "ABX9TyMNLgrfaAPr03/2LFVHZCvz",
      "include_colab_link": true
    },
    "kernelspec": {
      "name": "python3",
      "display_name": "Python 3"
    },
    "language_info": {
      "name": "python"
    }
  },
  "cells": [
    {
      "cell_type": "markdown",
      "metadata": {
        "id": "view-in-github",
        "colab_type": "text"
      },
      "source": [
        "<a href=\"https://colab.research.google.com/github/sunita-singhal/python-tutorials/blob/main/Challenge_1.ipynb\" target=\"_parent\"><img src=\"https://colab.research.google.com/assets/colab-badge.svg\" alt=\"Open In Colab\"/></a>"
      ]
    },
    {
      "cell_type": "code",
      "execution_count": 74,
      "metadata": {
        "colab": {
          "base_uri": "https://localhost:8080/"
        },
        "id": "eFnYx843Jp2K",
        "outputId": "901540c8-8534-4fa4-d046-f40628bc6888"
      },
      "outputs": [
        {
          "output_type": "stream",
          "name": "stdout",
          "text": [
            "write your name sanyam\n",
            "which day it is wednesday\n",
            "Invalid input! Please enter a number.\n",
            "which day it is 3\n",
            "I welcome  sanyam on day 3\n",
            "Enter your height in inches 71\n",
            "Enter your Weight in kgs 75\n",
            "Your BMI is 23.062611585002976\n"
          ]
        }
      ],
      "source": [
        "C=\"Challenge\"\n",
        "# take name input\n",
        "name=input(\"write your name \")\n",
        "# take day input untill it is in number\n",
        "while True:\n",
        "  day=(input(\"which day it is \"))\n",
        "  if day .isdigit():\n",
        "    day1=int(day)\n",
        "    print(\"I welcome \",name,\"on day\", day1)\n",
        "    break # exit the loop once valid input is entered\n",
        "  else:\n",
        "    print (\"Invalid input! Please enter a number.\")\n",
        "#Take users height and weight to calculate BMI)\n",
        "H=float(input(\"Enter your height in inches \"))\n",
        "W=float(input(\"Enter your Weight in kgs \"))\n",
        "# Convert weight to pounds\n",
        "W=W*2.205\n",
        "# Calculate BMI\n",
        "bmi=(W/(H*H))*703\n",
        "print(\"Your BMI is\",bmi)\n"
      ]
    }
  ]
}