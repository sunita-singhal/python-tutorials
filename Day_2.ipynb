{
  "nbformat": 4,
  "nbformat_minor": 0,
  "metadata": {
    "colab": {
      "provenance": [],
      "authorship_tag": "ABX9TyO0eRwXbrT068D2+TMej+WD",
      "include_colab_link": true
    },
    "kernelspec": {
      "name": "python3",
      "display_name": "Python 3"
    },
    "language_info": {
      "name": "python"
    }
  },
  "cells": [
    {
      "cell_type": "markdown",
      "metadata": {
        "id": "view-in-github",
        "colab_type": "text"
      },
      "source": [
        "<a href=\"https://colab.research.google.com/github/sunita-singhal/python-tutorials/blob/main/Day_2.ipynb\" target=\"_parent\"><img src=\"https://colab.research.google.com/assets/colab-badge.svg\" alt=\"Open In Colab\"/></a>"
      ]
    },
    {
      "cell_type": "code",
      "execution_count": 35,
      "metadata": {
        "id": "W2rtJmh6of30",
        "colab": {
          "base_uri": "https://localhost:8080/"
        },
        "outputId": "be119714-bb89-42a3-9a6a-f96cb71a6dbd"
      },
      "outputs": [
        {
          "output_type": "stream",
          "name": "stdout",
          "text": [
            "enter your expenses1,2,3\n",
            "6\n"
          ]
        }
      ],
      "source": [
        "#convert and add all expenses of the day\n",
        "Expenses=input(\"enter your expenses\")\n",
        "Expenses=Expenses.replace(\",\",\" \")\n",
        "seperate=Expenses.split()\n",
        "Integers=map (int,seperate)\n",
        "value=list(Integers)\n",
        "Total=sum(value)\n",
        "print(Total)"
      ]
    }
  ]
}